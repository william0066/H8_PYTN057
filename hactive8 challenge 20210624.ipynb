{
 "cells": [
  {
   "cell_type": "code",
   "execution_count": 17,
   "id": "1e13c293",
   "metadata": {},
   "outputs": [
    {
     "name": "stdout",
     "output_type": "stream",
     "text": [
      "masukkan nama panjang a a\n",
      "masukkan nama pendek a\n",
      "masukkan umur 9\n",
      "a\n"
     ]
    }
   ],
   "source": [
    "nama_panjang = input ('masukkan nama panjang ')\n",
    "b = nama_panjang.split (' ')\n",
    "nama_pendek = input ('masukkan nama pendek ')\n",
    "umur = int(input('masukkan umur '))\n",
    "if umur%2 == 0: \n",
    "    print (nama_panjang)\n",
    "else: \n",
    "    if(len(b) >= 3):\n",
    "        print (nama_panjang)\n",
    "    else:\n",
    "        print (nama_pendek)\n"
   ]
  },
  {
   "cell_type": "code",
   "execution_count": null,
   "id": "e71c42f1",
   "metadata": {},
   "outputs": [],
   "source": []
  }
 ],
 "metadata": {
  "kernelspec": {
   "display_name": "Python 3",
   "language": "python",
   "name": "python3"
  },
  "language_info": {
   "codemirror_mode": {
    "name": "ipython",
    "version": 3
   },
   "file_extension": ".py",
   "mimetype": "text/x-python",
   "name": "python",
   "nbconvert_exporter": "python",
   "pygments_lexer": "ipython3",
   "version": "3.8.8"
  }
 },
 "nbformat": 4,
 "nbformat_minor": 5
}
