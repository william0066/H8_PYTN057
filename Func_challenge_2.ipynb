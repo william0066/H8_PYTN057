{
 "cells": [
  {
   "cell_type": "markdown",
   "id": "2ae2ef88",
   "metadata": {},
   "source": [
    "kita membuat 2 fungsi, dimana fungsi pertama adalah untuk mengecek input itu adalah suatu angka bukan huruf dan apakah angka itu dapat dibagi 2, hasil dari fungsi tersebut adalah true atau false\n",
    "fungsi yg kedua adalah apabila hasil dari fungsi pertama itu adalah true, maka kita akan mempangkatkan angka tersebut dengan pangkat yang kita inginkan, dan apabila false maka keluar kata2: \"input bukan angka\" atau \"input tidak bisa dibagi 2\"\n",
    "contoh:\n",
    "input: 10\n",
    "pangkat: 3\n",
    "maka hasil dari fungsi kedua nya: 100\n",
    "\n",
    "input: 5\n",
    "pangkat: 2\n",
    "maka hasil dari fungsi kedua nya: \"input tidak bisa dibagi 2\"\n",
    "\n",
    "input: halo\n",
    "pangkat: 2\n",
    "maka hasil dari fungsi kedua nya: \"input bukan angka\""
   ]
  },
  {
   "cell_type": "code",
   "execution_count": 19,
   "id": "c8c3ac22",
   "metadata": {},
   "outputs": [
    {
     "name": "stdout",
     "output_type": "stream",
     "text": [
      "masukkan angka: halo\n",
      "False\n"
     ]
    }
   ],
   "source": [
    "angka =input (\"masukkan angka: \")\n",
    "if (type(angka) == int):\n",
    "    print (True)\n",
    "else:\n",
    "    print (False)"
   ]
  },
  {
   "cell_type": "code",
   "execution_count": 32,
   "id": "2bb69c62",
   "metadata": {},
   "outputs": [],
   "source": [
    "def func_pertama_challenge_kedua (angka_1):\n",
    "    if angka_1.isnumeric():\n",
    "        if int (angka_1)%2 == 0:\n",
    "            return True\n",
    "        else:\n",
    "            hasil = \"input tidak bisa dibagi 2\"\n",
    "            return hasil\n",
    "    else:\n",
    "        hasil =\"input bukan angka\"\n",
    "        return hasil\n",
    "\n",
    "def func_kedua_challenge_kedua (hasil_func_pertama, pangka, angka_1):\n",
    "    if hasil_func_pertama == True:\n",
    "        angka_1 = int(angka_1)\n",
    "        hasil_func_kedua = angka_1**pangkat\n",
    "        return hasil_func_kedua\n",
    "    else:\n",
    "        hasil_func_kedua = hasil_func_pertama\n",
    "        return hasil_func_kedua\n",
    "    \n",
    "\n",
    "\n",
    "    "
   ]
  },
  {
   "cell_type": "code",
   "execution_count": 38,
   "id": "873e27b8",
   "metadata": {},
   "outputs": [
    {
     "name": "stdout",
     "output_type": "stream",
     "text": [
      "silahkan input Angka: 5\n",
      "input pangkat: 2\n"
     ]
    },
    {
     "data": {
      "text/plain": [
       "'input tidak bisa dibagi 2'"
      ]
     },
     "execution_count": 38,
     "metadata": {},
     "output_type": "execute_result"
    }
   ],
   "source": [
    "angka_1 = input (\"silahkan input Angka: \")\n",
    "pangkat = int(input(\"input pangkat: \"))\n",
    "\n",
    "hasil_func_pertama = func_pertama_challenge_kedua (angka_1)\n",
    "func_kedua_challenge_kedua (hasil_func_pertama, pangkat, angka_1)"
   ]
  },
  {
   "cell_type": "code",
   "execution_count": 48,
   "id": "529a1687",
   "metadata": {},
   "outputs": [
    {
     "data": {
      "text/plain": [
       "False"
      ]
     },
     "execution_count": 48,
     "metadata": {},
     "output_type": "execute_result"
    }
   ],
   "source": [
    "angka = \"halo\"\n",
    "angka.isnumeric()       "
   ]
  },
  {
   "cell_type": "code",
   "execution_count": 52,
   "id": "b9b3ba94",
   "metadata": {},
   "outputs": [
    {
     "name": "stdout",
     "output_type": "stream",
     "text": [
      "masukkan angka: ti\n"
     ]
    },
    {
     "data": {
      "text/plain": [
       "False"
      ]
     },
     "execution_count": 52,
     "metadata": {},
     "output_type": "execute_result"
    }
   ],
   "source": [
    "angkaa = input(\"masukkan angka: \")\n",
    "angkaa.isnumeric()"
   ]
  },
  {
   "cell_type": "code",
   "execution_count": null,
   "id": "e81e7cc2",
   "metadata": {},
   "outputs": [],
   "source": []
  }
 ],
 "metadata": {
  "kernelspec": {
   "display_name": "Python 3",
   "language": "python",
   "name": "python3"
  },
  "language_info": {
   "codemirror_mode": {
    "name": "ipython",
    "version": 3
   },
   "file_extension": ".py",
   "mimetype": "text/x-python",
   "name": "python",
   "nbconvert_exporter": "python",
   "pygments_lexer": "ipython3",
   "version": "3.8.8"
  }
 },
 "nbformat": 4,
 "nbformat_minor": 5
}
