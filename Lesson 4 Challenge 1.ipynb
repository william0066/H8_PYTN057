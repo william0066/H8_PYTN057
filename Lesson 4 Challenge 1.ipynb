{
 "cells": [
  {
   "cell_type": "markdown",
   "id": "b67655ec",
   "metadata": {},
   "source": [
    "Case:\n",
    "Create numpy array from your inputted full name in the form of numbers based on order in alphabets. You can use this translater to change from alphabet to number: \n",
    "```py\n",
    "letter_to_word = {'a': 1, 'c': 3, 'b': 2, 'e': 5, 'd': 4, 'g': 7, 'f': 6, 'i': 9, 'h': 8, 'k': 11, 'j': 10, 'm': 13, 'l': 12, 'o': 15, 'n': 14, 'q': 17, 'p': 16, 's': 19, 'r': 18, 'u': 21, 't': 20, 'w': 23, 'v': 22, 'y': 25, 'x': 24, 'z': 26}\n",
    "```\n",
    "Also add repetition on the number based on your inputted number.\n",
    "Example:\n",
    "inputted full name = 'Jenny'<br>\n",
    "repeated = 4 times<br>\n",
    "result:<br>\n",
    "```\n",
    "[[10  5 14 14 25]\n",
    " [10  5 14 14 25]\n",
    " [10  5 14 14 25]\n",
    " [10  5 14 14 25]]\n",
    "```"
   ]
  },
  {
   "cell_type": "code",
   "execution_count": 2,
   "id": "1c0fd05c",
   "metadata": {},
   "outputs": [],
   "source": [
    "import numpy as np"
   ]
  },
  {
   "cell_type": "code",
   "execution_count": 27,
   "id": "a1824fcb",
   "metadata": {},
   "outputs": [
    {
     "name": "stdout",
     "output_type": "stream",
     "text": [
      "[23, 9, 12, 12, 9, 1, 13]\n",
      "[[23  9 12 12  9  1 13]\n",
      " [23  9 12 12  9  1 13]\n",
      " [23  9 12 12  9  1 13]\n",
      " [23  9 12 12  9  1 13]]\n"
     ]
    }
   ],
   "source": [
    "name = \"william\"\n",
    "number_1 = []\n",
    "for x in name:\n",
    "    number = ord(x)-96\n",
    "    number_1.append(number)\n",
    "print (number_1)\n",
    "\n",
    "a = np.full ((4,7), [number_1],dtype=int)\n",
    "print (a)"
   ]
  },
  {
   "cell_type": "code",
   "execution_count": null,
   "id": "bcf26442",
   "metadata": {},
   "outputs": [],
   "source": []
  }
 ],
 "metadata": {
  "kernelspec": {
   "display_name": "Python 3",
   "language": "python",
   "name": "python3"
  },
  "language_info": {
   "codemirror_mode": {
    "name": "ipython",
    "version": 3
   },
   "file_extension": ".py",
   "mimetype": "text/x-python",
   "name": "python",
   "nbconvert_exporter": "python",
   "pygments_lexer": "ipython3",
   "version": "3.8.8"
  }
 },
 "nbformat": 4,
 "nbformat_minor": 5
}
