{
 "cells": [
  {
   "cell_type": "markdown",
   "id": "9cef82ad",
   "metadata": {},
   "source": [
    "case: \n",
    "kita membutuhkan fungsi untuk menghitung perkalian dari item2 di list A, kemudian hasil dari perkalian tersebut dikalikan ke setiap item di list B\n",
    "contoh:\n",
    "list_a = [1,2,3,4]\n",
    "list_b = [4,5,6,7]\n",
    "maka hasil dari fungsi: [96,120,144,168]"
   ]
  },
  {
   "cell_type": "code",
   "execution_count": 1,
   "id": "af8fbf16",
   "metadata": {},
   "outputs": [],
   "source": [
    "def func_challenge_pertama (list_a,list_b):\n",
    "    hasil_perkalian = 1\n",
    "    for x in list_a:\n",
    "        hasil_perkalian = hasil_perkalian*x\n",
    "        print(hasil_perkalian)\n",
    "    hasil_akhir = []\n",
    "    for y in list_b:\n",
    "        hasil_akhir = hasil_akhir + [y*hasil_perkalian]\n",
    "        \n",
    "    return hasil_akhir"
   ]
  },
  {
   "cell_type": "code",
   "execution_count": 2,
   "id": "115302d4",
   "metadata": {},
   "outputs": [
    {
     "name": "stdout",
     "output_type": "stream",
     "text": [
      "1\n",
      "2\n",
      "6\n",
      "24\n"
     ]
    },
    {
     "data": {
      "text/plain": [
       "[96, 120, 144, 168]"
      ]
     },
     "execution_count": 2,
     "metadata": {},
     "output_type": "execute_result"
    }
   ],
   "source": [
    "func_challenge_pertama([1,2,3,4],[4,5,6,7])"
   ]
  },
  {
   "cell_type": "code",
   "execution_count": null,
   "id": "e06e9311",
   "metadata": {},
   "outputs": [],
   "source": []
  }
 ],
 "metadata": {
  "kernelspec": {
   "display_name": "Python 3",
   "language": "python",
   "name": "python3"
  },
  "language_info": {
   "codemirror_mode": {
    "name": "ipython",
    "version": 3
   },
   "file_extension": ".py",
   "mimetype": "text/x-python",
   "name": "python",
   "nbconvert_exporter": "python",
   "pygments_lexer": "ipython3",
   "version": "3.8.8"
  }
 },
 "nbformat": 4,
 "nbformat_minor": 5
}
